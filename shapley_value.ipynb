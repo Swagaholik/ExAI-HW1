{
  "nbformat": 4,
  "nbformat_minor": 0,
  "metadata": {
    "colab": {
      "provenance": [],
      "machine_shape": "hm",
      "gpuType": "T4"
    },
    "kernelspec": {
      "name": "python3",
      "display_name": "Python 3"
    },
    "language_info": {
      "name": "python"
    },
    "accelerator": "GPU"
  },
  "cells": [
    {
      "cell_type": "code",
      "execution_count": 7,
      "metadata": {
        "id": "_eS3ELyDWA0n"
      },
      "outputs": [],
      "source": [
        "from itertools import combinations\n",
        "\n",
        "# def calculate_shapley_values(v_function, num_players):\n",
        "#     shapley_values = [0] * num_players\n",
        "#     for i in range(num_players):\n",
        "#         for subset_size in range(num_players):\n",
        "#             for subset in combinations(range(num_players), subset_size):\n",
        "#                 if i not in subset:\n",
        "#                     coalition_value = v_function(list(subset) + [i])\n",
        "#                     marginal_contribution = coalition_value - v_function(list(subset))\n",
        "#                     shapley_values[i] += marginal_contribution * factorial(len(subset)) * factorial(num_players - len(subset) - 1) / factorial(num_players)\n",
        "#     return shapley_values\n",
        "\n",
        "def factorial(n):\n",
        "    if n == 0:\n",
        "        return 1\n",
        "    else:\n",
        "        return n * factorial(n-1)\n",
        "\n",
        "# def v_function(coalition):\n",
        "#     # Define the game v(S) based on the coalition\n",
        "#     x1, x2, x3, x4, x5 = [1 if i in coalition else 0 for i in range(1, 6)]\n",
        "#     return 1*x2 + 1*x3 + 2*x4 + 3*x1*x3 + 5*x2*x5 - 10*x1*x2*x4\n"
      ]
    },
    {
      "cell_type": "code",
      "source": [
        "import itertools\n",
        "\n",
        "def shapley_values(v, d):\n",
        "  \"\"\"\n",
        "  Calculates Shapley values for a game v with d players.\n",
        "\n",
        "  Args:\n",
        "    v: A function that takes a set of players (subset of {1,...,d}) and returns the value of the coalition.\n",
        "    d: Number of players in the game.\n",
        "\n",
        "  Returns:\n",
        "    A dictionary mapping player index to their Shapley value.\n",
        "  \"\"\"\n",
        "  values = {}\n",
        "  for i in range(1, d+1):\n",
        "    player_value = 0\n",
        "    for S in itertools.combinations(range(1, d+1), d-1):\n",
        "      if i not in S:\n",
        "        # Create a binary vector x representing the presence/absence of players\n",
        "        x = [1 if j in S else 0 for j in range(1, d+1)]\n",
        "        # Add player i to the coalition\n",
        "        x[i-1] = 1\n",
        "        marginal_contribution = v(x) - v([x_j if j != i else 0 for j, x_j in enumerate(x)])\n",
        "        weight = factorial(len(S)) * factorial(d - len(S) - 1) / (factorial(d))\n",
        "        player_value += weight * marginal_contribution\n",
        "    values[i] = player_value\n",
        "  return values\n",
        "\n",
        "# Define the game function v(S) with x as a binary vector\n",
        "def v(x):\n",
        "  return 1*x[1] + 1*x[2] + 2*x[3] + 3*x[0]*x[2] + 5*x[1]*x[4] - 10*x[0]*x[1]*x[3]\n",
        "\n",
        "# Calculate Shapley values for d = 5 players\n",
        "shapley_values = shapley_values(v, 5)\n",
        "print(shapley_values)"
      ],
      "metadata": {
        "colab": {
          "base_uri": "https://localhost:8080/"
        },
        "id": "cqTFy_mMUOLj",
        "outputId": "572a99c6-5934-4c2e-d26b-be6c72368b5b"
      },
      "execution_count": 8,
      "outputs": [
        {
          "output_type": "stream",
          "name": "stdout",
          "text": [
            "{1: -0.8, 2: 0.8, 3: -1.6, 4: 1.0, 5: 0.0}\n"
          ]
        }
      ]
    }
  ]
}